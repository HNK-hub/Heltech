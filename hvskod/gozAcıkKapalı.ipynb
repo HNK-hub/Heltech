{
 "cells": [
  {
   "cell_type": "code",
   "execution_count": 2,
   "id": "8e705b5b-460d-4c84-be7d-9288f74bf6d2",
   "metadata": {},
   "outputs": [
    {
     "ename": "IndentationError",
     "evalue": "unindent does not match any outer indentation level (<tokenize>, line 40)",
     "output_type": "error",
     "traceback": [
      "\u001b[1;36m  File \u001b[1;32m\"<tokenize>\"\u001b[1;36m, line \u001b[1;32m40\u001b[0m\n\u001b[1;33m    if(np.all(np.greater(hsv[y][x],lower_hasta))&np.all(np.less_equal(hsv[y][x],upper_blue))):\u001b[0m\n\u001b[1;37m    ^\u001b[0m\n\u001b[1;31mIndentationError\u001b[0m\u001b[1;31m:\u001b[0m unindent does not match any outer indentation level\n"
     ]
    }
   ],
   "source": [
    "import numpy as np\n",
    "import cv2\n",
    "import matplotlib.pyplot as plt\n",
    "import matplotlib.animation as animation\n",
    "eye_cascade = cv2.CascadeClassifier('DATA/haarcascades/haarcascade_eye_tree_eyeglasses.xml')\n",
    "cap = cv2.VideoCapture(0)\n",
    "lower_hasta = np.array([90,24,195])\n",
    "blink =False\n",
    "bcount = -1\n",
    "kernel = np.ones((5,5),np.uint8)\n",
    "global a\n",
    "font = cv2.FONT_HERSHEY_COMPLEX_SMALL\n",
    "try:\n",
    "    while 1:\n",
    "        ret, img = cap.read()\n",
    "        hsv = cv2.cvtColor(img, cv2.COLOR_BGR2HSV)\n",
    "        gray = cv2.cvtColor(img, cv2.COLOR_BGR2GRAY)\n",
    "        eyes = eye_cascade.detectMultiScale(gray,1.1,7)\n",
    "        if (len(eyes)>0):\n",
    "            a = \"Eye Open\"\n",
    "            if (blink==True):\n",
    "                blink=False\n",
    "            cv2.putText(img,a,(10,30), font, 1,(0,0,255),2,cv2.LINE_AA)\n",
    "            for (ex,ey,ew,eh) in eyes:\n",
    "                roi_gray2 = gray[ey:ey+eh, ex:ex+ew]\n",
    "                roi_color2 = img[ey:ey+eh, ex:ex+ew]\n",
    "                blur = cv2.GaussianBlur(roi_gray2,(5,5),10)\n",
    "                \n",
    "                erosion = cv2.erode(blur,kernel,iterations = 2)\n",
    "                ret3,th3 = cv2.threshold(erosion,0,255,cv2.THRESH_BINARY+cv2.THRESH_OTSU)\n",
    "                circles = cv2.HoughCircles(erosion,cv2.HOUGH_GRADIENT,4,200,param1=20,param2=150,minRadius=0,maxRadius=0)\n",
    "                try:\n",
    "                    for i in circles[0,:]:\n",
    "                        if(i[2]>0 and i[2]<55):\n",
    "                            cv2.circle(roi_color2,(i[0],i[1]),i[2],(0,0,255),1)\n",
    "                            cv2.putText(img,\"Pupil Pos:\",(450,30), font, 1,(0,0,255),2,cv2.LINE_AA)\n",
    "                            cv2.circle(roi_color2,(i[0],i[1]),2,(0,0,255),3)\n",
    "                except Exception as e:\n",
    "                    pass     \n",
    "                  if(np.all(np.greater(hsv[y][x],lower_hasta))&np.all(np.less_equal(hsv[y][x],upper_blue))):\n",
    "                    bulunan += ' Hasta '\n",
    "        else:\n",
    "            if (blink==False):\n",
    "                blink=True\n",
    "                if blink==True:\n",
    "                     cv2.putText(im\n",
    "                                 g,\"Blink\",(10,90), font, 1,(0,0,255),2,cv2.LINE_AA)\n",
    "            a=\"Eye Close\" \n",
    "            else:\n",
    "                answer = [0,0,0]\n",
    "                bulunan += 'Saglikli '\n",
    "            cv2.putText(img,a,(10,30), font, 1,(0,0,255),2,cv2.LINE_AA)\n",
    "        cv2.imshow('img',img)\n",
    "        k = cv2.waitKey(30) & 0xff\n",
    "        if k == 27:\n",
    "            break\n",
    "    plt.show()        \n",
    "    cap.release()\n",
    "    cv2.destroyAllWindows()\n",
    "except:\n",
    "    plt.show()     "
   ]
  },
  {
   "cell_type": "code",
   "execution_count": null,
   "id": "5cdaa06d-4f9e-4263-b0ff-459e24575a04",
   "metadata": {},
   "outputs": [],
   "source": []
  },
  {
   "cell_type": "code",
   "execution_count": null,
   "id": "18685dac-d7b5-4679-b765-9d569e253588",
   "metadata": {},
   "outputs": [],
   "source": []
  },
  {
   "cell_type": "code",
   "execution_count": null,
   "id": "49f44cc9-9025-4a20-9c3b-9a6f5ef1e376",
   "metadata": {},
   "outputs": [],
   "source": []
  }
 ],
 "metadata": {
  "kernelspec": {
   "display_name": "Python 3 (ipykernel)",
   "language": "python",
   "name": "python3"
  },
  "language_info": {
   "codemirror_mode": {
    "name": "ipython",
    "version": 3
   },
   "file_extension": ".py",
   "mimetype": "text/x-python",
   "name": "python",
   "nbconvert_exporter": "python",
   "pygments_lexer": "ipython3",
   "version": "3.7.11"
  }
 },
 "nbformat": 4,
 "nbformat_minor": 5
}
