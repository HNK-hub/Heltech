{
 "cells": [
  {
   "cell_type": "code",
   "execution_count": 1,
   "id": "fc8ad25d-09f9-4786-b012-c3dfc497089f",
   "metadata": {},
   "outputs": [
    {
     "ename": "IndentationError",
     "evalue": "unexpected indent (Temp/ipykernel_6968/1217640050.py, line 22)",
     "output_type": "error",
     "traceback": [
      "\u001b[1;36m  File \u001b[1;32m\"C:\\Users\\HATICE~1\\AppData\\Local\\Temp/ipykernel_6968/1217640050.py\"\u001b[1;36m, line \u001b[1;32m22\u001b[0m\n\u001b[1;33m    if (len(eyes)>0):\u001b[0m\n\u001b[1;37m    ^\u001b[0m\n\u001b[1;31mIndentationError\u001b[0m\u001b[1;31m:\u001b[0m unexpected indent\n"
     ]
    }
   ],
   "source": [
    "import cv2\n",
    "\n",
    "cam = cv2.VideoCapture(0)\n",
    "faceCascade= cv2.CascadeClassifier('DATA/haarcascades/haarcascade_eye_tree_eyeglasses.xml')\n",
    "\n",
    "if cam.isOpened()==False:\n",
    "    print('HATA')\n",
    "fourcc=cv2.VideoWriter.fourcc(*'XVID')\n",
    "out =cv2.VideoWriter(\"deneme.mp4\",fourcc,24.0,(640,480))\n",
    "frame_number =-1\n",
    "while cam.isOpened:\n",
    "    frame_number +=1\n",
    "    ret,frame=cam.read()\n",
    "    \n",
    "    face=faceCascade.detectMultiScale(frame)\n",
    "    for x,y,w,h in face:\n",
    "        img=cv2.rectangle(frame,(x,y),(x+w,y+h),(0,0,255),1)\n",
    "       \n",
    "\n",
    "    if ret==True:\n",
    "        out.write(frame)\n",
    "        cv2.imshow('Okunan Dosya',frame)\n",
    "        if cv2.waitKey(10)&0xFF==ord('q'):\n",
    "            break\n",
    "    else:\n",
    "        break\n",
    "cam.release()\n",
    "cv2.destroyAllWindows()"
   ]
  },
  {
   "cell_type": "code",
   "execution_count": null,
   "id": "7ec7dbdd-56b9-4161-8e2d-0225eb7011f2",
   "metadata": {},
   "outputs": [],
   "source": []
  },
  {
   "cell_type": "code",
   "execution_count": null,
   "id": "3e341e60-c971-45fb-88fd-1d1caec1a870",
   "metadata": {},
   "outputs": [],
   "source": []
  }
 ],
 "metadata": {
  "kernelspec": {
   "display_name": "Python 3 (ipykernel)",
   "language": "python",
   "name": "python3"
  },
  "language_info": {
   "codemirror_mode": {
    "name": "ipython",
    "version": 3
   },
   "file_extension": ".py",
   "mimetype": "text/x-python",
   "name": "python",
   "nbconvert_exporter": "python",
   "pygments_lexer": "ipython3",
   "version": "3.7.11"
  }
 },
 "nbformat": 4,
 "nbformat_minor": 5
}
